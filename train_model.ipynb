{
 "cells": [
  {
   "cell_type": "code",
   "execution_count": null,
   "metadata": {},
   "outputs": [],
   "source": [
    "#Importing packages\n",
    "import pandas as pd                 \n",
    "import numpy as np                   \n",
    "from matplotlib import pyplot as plt\n",
    "from mapie.regression import MapieRegressor\n",
    "from mapie.metrics import regression_coverage_score\n",
    "from xgboost import XGBRegressor\n",
    "from sklearn.model_selection import train_test_split\n",
    "import time\n",
    "import pickle\n",
    "\n",
    "df = pd.read_csv('Traffic_Volume.csv')\n",
    "df.info()"
   ]
  },
  {
   "cell_type": "code",
   "execution_count": null,
   "metadata": {},
   "outputs": [],
   "source": [
    "#Used Gemini here to extract month, weekday, and hour\n",
    "df['month'] = pd.to_datetime(df['date_time']).dt.strftime('%B')\n",
    "df['weekday'] = pd.to_datetime(df['date_time']).dt.strftime('%A') \n",
    "df['hour'] = pd.to_datetime(df['date_time']).dt.hour\n",
    "df['hour'] = df['hour'].astype(str)"
   ]
  },
  {
   "cell_type": "code",
   "execution_count": null,
   "metadata": {},
   "outputs": [],
   "source": [
    "y = df['traffic_volume']\n",
    "\n",
    "df.drop(columns=['date_time', 'traffic_volume'], inplace=True)\n",
    "df.info()"
   ]
  },
  {
   "cell_type": "code",
   "execution_count": null,
   "metadata": {},
   "outputs": [],
   "source": [
    "df_encoded = pd.get_dummies(df, columns=['holiday', 'weather_main', 'month','weekday','hour'], drop_first=True)\n",
    "X = df_encoded\n",
    "\n",
    "train_X, test_X, train_y, test_y = train_test_split(X, y, test_size = 0.2, random_state = 42)"
   ]
  },
  {
   "cell_type": "code",
   "execution_count": null,
   "metadata": {},
   "outputs": [],
   "source": [
    "#Training XGBoost regressor\n",
    "xg_reg = XGBRegressor()\n",
    "xg_reg.fit(train_X, train_y)"
   ]
  },
  {
   "cell_type": "code",
   "execution_count": null,
   "metadata": {},
   "outputs": [],
   "source": [
    "y_pred = xg_reg.predict(test_X)"
   ]
  },
  {
   "cell_type": "code",
   "execution_count": null,
   "metadata": {},
   "outputs": [],
   "source": [
    "#Saving model\n",
    "xg_pickle = open('XGBoost_pickle.pkl', 'wb')\n",
    "pickle.dump(xg_reg, xg_pickle)\n",
    "xg_pickle.close()"
   ]
  },
  {
   "cell_type": "markdown",
   "metadata": {},
   "source": [
    "#### Histogram of Residuals/Errors "
   ]
  },
  {
   "cell_type": "code",
   "execution_count": null,
   "metadata": {},
   "outputs": [],
   "source": [
    "\n",
    "all_residuals = test_y - y_pred\n",
    "plt.figure(figsize=(6, 4), dpi = 150)\n",
    "plt.hist(all_residuals, bins = 25, color = 'lime', edgecolor = 'black')\n",
    "plt.xlabel('Residuals', fontsize = 14)\n",
    "plt.ylabel('# of Test Datapoints', fontsize = 14)\n",
    "plt.title('Distribution of Residuals', fontsize = 16)\n",
    "plt.xticks(fontsize = 10)\n",
    "plt.yticks(fontsize = 10)\n",
    "plt.savefig(\"residuals.svg\");"
   ]
  },
  {
   "cell_type": "markdown",
   "metadata": {},
   "source": [
    "#### Scatter Plot of Predicted Vs. Actual Values"
   ]
  },
  {
   "cell_type": "code",
   "execution_count": null,
   "metadata": {},
   "outputs": [],
   "source": [
    "plt.figure(figsize = (6, 4), dpi = 150)\n",
    "plt.scatter(test_y, y_pred, color = 'blue', alpha = 0.6, edgecolor = 'black', s = 40)\n",
    "plt.plot([min(test_y), max(test_y)], [min(test_y), max(test_y)], color = 'red', linestyle = '--', lw = 2)\n",
    "plt.xlabel('Actual Values', fontsize = 10)\n",
    "plt.ylabel('Predicted Values', fontsize = 10)\n",
    "plt.title('Predicted vs Actual Values', fontsize = 12)\n",
    "plt.xticks(fontsize = 10)\n",
    "plt.yticks(fontsize = 10)\n",
    "plt.savefig(\"scatter_plot.svg\");"
   ]
  },
  {
   "cell_type": "markdown",
   "metadata": {},
   "source": [
    "#### Feature Importance Plot"
   ]
  },
  {
   "cell_type": "code",
   "execution_count": null,
   "metadata": {},
   "outputs": [],
   "source": [
    "importance = xg_reg.feature_importances_\n",
    "feature_imp = pd.DataFrame(list(zip(train_X.columns, importance)),\n",
    "               columns = ['Feature', 'Importance'])\n",
    "\n",
    "feature_imp = feature_imp.sort_values('Importance', ascending = False).reset_index(drop = True)\n",
    "plt.figure(figsize=(8, 8))\n",
    "plt.barh(feature_imp['Feature'], feature_imp['Importance'], color = ['red', 'lime'])\n",
    "plt.xlabel(\"Importance\", fontsize = 12)\n",
    "plt.ylabel(\"Input Feature\", fontsize = 12)\n",
    "plt.title('Which features are the most important for predicting traffic volume?', fontsize = 12) \n",
    "plt.yticks(fontsize = 6) # fontsize of yticks\n",
    "plt.xticks(fontsize = 10) # fontsize of xticks\n",
    "plt.tight_layout()\n",
    "plt.savefig(\"feature_imp.svg\");"
   ]
  },
  {
   "cell_type": "code",
   "execution_count": null,
   "metadata": {},
   "outputs": [],
   "source": [
    "# Training Mapie model\n",
    "model = XGBRegressor()\n",
    "mapie = MapieRegressor(estimator = model, # Prediction model to use\n",
    "                       n_jobs = -1,\n",
    "                       random_state = 42)\n",
    "\n",
    "start = time.time()  \n",
    "mapie.fit(train_X, train_y)\n",
    "stop = time.time()             \n",
    "print(f\"Training time: {stop - start}s\")"
   ]
  },
  {
   "cell_type": "code",
   "execution_count": null,
   "metadata": {},
   "outputs": [],
   "source": [
    "#Saving model\n",
    "mapie_pickle = open('mapie_pickle.pkl', 'wb')\n",
    "pickle.dump(mapie, mapie_pickle)\n",
    "mapie_pickle.close()"
   ]
  }
 ],
 "metadata": {
  "kernelspec": {
   "display_name": "base",
   "language": "python",
   "name": "python3"
  },
  "language_info": {
   "codemirror_mode": {
    "name": "ipython",
    "version": 3
   },
   "file_extension": ".py",
   "mimetype": "text/x-python",
   "name": "python",
   "nbconvert_exporter": "python",
   "pygments_lexer": "ipython3",
   "version": "3.12.3"
  }
 },
 "nbformat": 4,
 "nbformat_minor": 2
}
